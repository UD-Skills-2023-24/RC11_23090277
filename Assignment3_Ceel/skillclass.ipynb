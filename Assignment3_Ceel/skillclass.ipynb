{
 "cells": [
  {
   "cell_type": "markdown",
   "id": "8b3110c8-882d-4cf9-838a-58156578d4c6",
   "metadata": {},
   "source": [
    "# Exercise One\n",
    "\n",
    "1. Implement this algorithm in Python. Use the NumPy ndarray object for your matrices;\n",
    "2. Give the asymptotic time complexity of the above algorithm or your implementation (they should be the same). Justify and explain your\n",
    "answer."
   ]
  },
  {
   "cell_type": "code",
   "execution_count": 3,
   "id": "0a111481",
   "metadata": {},
   "outputs": [
    {
     "name": "stdout",
     "output_type": "stream",
     "text": [
      "Result of A * B:\n",
      "[[ 4  4]\n",
      " [10  8]]\n"
     ]
    }
   ],
   "source": [
    "import numpy as np\n",
    "\n",
    "def square_matrix_multiply(A, B):\n",
    "    n = len(A)\n",
    "    C = [[0] * n for _ in range(n)]\n",
    "    for i in range(n):\n",
    "        for j in range(n):\n",
    "            for k in range(n):\n",
    "                C[i][j] += A[i][k] * B[k][j]\n",
    "    return C\n",
    "\n",
    "# Test case\n",
    "A = np.array([[1, 2], [3, 4]])\n",
    "B = np.array([[2, 0], [1, 2]])\n",
    "C = square_matrix_multiply(A, B)\n",
    "print(\"Result of A * B:\")\n",
    "print(np.array(C))"
   ]
  },
  {
   "cell_type": "markdown",
   "id": "2e0fe85a-8087-429b-a948-ac7cc58fdab2",
   "metadata": {},
   "source": [
    "# Exercise Two\n",
    "1. Describe and explain the algorithm. It should contain at least the following:\n",
    "    - recursiveness: How is it recursive? What is (the criteria for) the base case? How does the recursion step reduce to the base case?\n",
    "    - divide-and-conquer : How does this algorithm fit into the divide-and\u0002conquer approach? Explain each step of divide, conquer, and combine for this algorithm (as in slide 8 / pdf page 16 of the lecture slides).\n",
    "2. Implement the recursive algorithm in Python. Reflect on which steps of the pseudocode were straightforward to implement and which hid a lot of complexity behind their language.\n",
    "3. Do a complexity analysis for the SMMRec algorithm. First comment on the complexity of the base case, divide step, conquer step, and combine step separately, then put it all together."
   ]
  },
  {
   "cell_type": "code",
   "execution_count": 4,
   "id": "331872fe",
   "metadata": {},
   "outputs": [
    {
     "name": "stdout",
     "output_type": "stream",
     "text": [
      "Result of A * B:\n",
      "[80, 70, 60, 50]\n",
      "[240, 214, 188, 162]\n",
      "[400, 358, 316, 274]\n",
      "[560, 502, 444, 386]\n"
     ]
    }
   ],
   "source": [
    "def split_matrix(A, n):\n",
    "    A11 = [row[:n] for row in A[:n]]\n",
    "    A12 = [row[n:] for row in A[:n]]\n",
    "    A21 = [row[:n] for row in A[n:]]\n",
    "    A22 = [row[n:] for row in A[n:]]\n",
    "    return A11, A12, A21, A22\n",
    "\n",
    "def matrix_add(A, B):\n",
    "    n = len(A)\n",
    "    return [[A[i][j] + B[i][j] for j in range(n)] for i in range(n)]\n",
    "\n",
    "def combine_matrix(A, B, C, D, n):\n",
    "    top = [A[i] + B[i] for i in range(n)]\n",
    "    bottom = [C[i] + D[i] for i in range(n)]\n",
    "    return top + bottom\n",
    "\n",
    "def square_matrix_multiply_recursive(A, B):\n",
    "    n = len(A)\n",
    "    if n == 1:\n",
    "        return [[A[0][0] * B[0][0]]]\n",
    "    else:\n",
    "        mid = n // 2\n",
    "        A11, A12, A21, A22 = split_matrix(A, mid)\n",
    "        B11, B12, B21, B22 = split_matrix(B, mid)\n",
    "\n",
    "        C11 = matrix_add(square_matrix_multiply_recursive(A11, B11),\n",
    "                         square_matrix_multiply_recursive(A12, B21))\n",
    "        C12 = matrix_add(square_matrix_multiply_recursive(A11, B12),\n",
    "                         square_matrix_multiply_recursive(A12, B22))\n",
    "        C21 = matrix_add(square_matrix_multiply_recursive(A21, B11),\n",
    "                         square_matrix_multiply_recursive(A22, B21))\n",
    "        C22 = matrix_add(square_matrix_multiply_recursive(A21, B12),\n",
    "                         square_matrix_multiply_recursive(A22, B22))\n",
    "\n",
    "        C = combine_matrix(C11, C12, C21, C22, mid)\n",
    "        return C\n",
    "\n",
    "# Test case\n",
    "A = [[1, 2, 3, 4],\n",
    "     [5, 6, 7, 8],\n",
    "     [9, 10, 11, 12],\n",
    "     [13, 14, 15, 16]]\n",
    "B = [[16, 15, 14, 13],\n",
    "     [12, 11, 10, 9],\n",
    "     [8, 7, 6, 5],\n",
    "     [4, 3, 2, 1]]\n",
    "result = square_matrix_multiply_recursive(A, B)\n",
    "print(\"Result of A * B:\")\n",
    "for row in result:\n",
    "    print(row)"
   ]
  },
  {
   "cell_type": "code",
   "execution_count": 13,
   "id": "eedff707",
   "metadata": {},
   "outputs": [
    {
     "name": "stdout",
     "output_type": "stream",
     "text": [
      "Result of Recursive A * B:\n",
      "[80, 70, 60, 50]\n",
      "[240, 214, 188, 162]\n",
      "[400, 358, 316, 274]\n",
      "[560, 502, 444, 386]\n",
      "\n",
      "Result of Non-Recursive A * B:\n",
      "[80, 70, 60, 50]\n",
      "[240, 214, 188, 162]\n",
      "[400, 358, 316, 274]\n",
      "[560, 502, 444, 386]\n"
     ]
    }
   ],
   "source": [
    "def split_matrix(A, n):\n",
    "    \"\"\" Split the matrix into four sub-matrices \"\"\"\n",
    "    A11 = [row[:n] for row in A[:n]]\n",
    "    A12 = [row[n:] for row in A[:n]]\n",
    "    A21 = [row[:n] for row in A[n:]]\n",
    "    A22 = [row[n:] for row in A[n:]]\n",
    "    return A11, A12, A21, A22\n",
    "\n",
    "def matrix_add(A, B):\n",
    "    \"\"\" Add two matrices \"\"\"\n",
    "    n = len(A)\n",
    "    return [[A[i][j] + B[i][j] for j in range(n)] for i in range(n)]\n",
    "\n",
    "def combine_matrix(A, B, C, D, n):\n",
    "    \"\"\" Combine four sub-matrices into one matrix after recursion \"\"\"\n",
    "    top = [A[i] + B[i] for i in range(n)]\n",
    "    bottom = [C[i] + D[i] for i in range(n)]\n",
    "    return top + bottom\n",
    "\n",
    "def square_matrix_multiply_recursive(A, B):\n",
    "    \"\"\" Recursive square matrix multiplication using the divide-and-conquer approach \"\"\"\n",
    "    n = len(A)\n",
    "    if n == 1:\n",
    "        return [[A[0][0] * B[0][0]]]  # Base case: single element multiplication\n",
    "    else:\n",
    "        mid = n // 2\n",
    "        A11, A12, A21, A22 = split_matrix(A, mid)\n",
    "        B11, B12, B21, B22 = split_matrix(B, mid)\n",
    "\n",
    "        # Recursive calls for sub-problems, contributing to the recursion tree\n",
    "        C11 = matrix_add(square_matrix_multiply_recursive(A11, B11),\n",
    "                         square_matrix_multiply_recursive(A12, B21))\n",
    "        C12 = matrix_add(square_matrix_multiply_recursive(A11, B12),\n",
    "                         square_matrix_multiply_recursive(A12, B22))\n",
    "        C21 = matrix_add(square_matrix_multiply_recursive(A21, B11),\n",
    "                         square_matrix_multiply_recursive(A22, B21))\n",
    "        C22 = matrix_add(square_matrix_multiply_recursive(A21, B12),\n",
    "                         square_matrix_multiply_recursive(A22, B22))\n",
    "\n",
    "        C = combine_matrix(C11, C12, C21, C22, mid)\n",
    "        return C\n",
    "\n",
    "def square_matrix_multiply(A, B):\n",
    "    \"\"\" Non-recursive square matrix multiplication \"\"\"\n",
    "    n = len(A)\n",
    "    C = [[0] * n for _ in range(n)]\n",
    "    for i in range(n):\n",
    "        for j in range(n):\n",
    "            for k in range(n):\n",
    "                C[i][j] += A[i][k] * B[k][j]\n",
    "    return C\n",
    "\n",
    "# Test case\n",
    "A = [[1, 2, 3, 4],\n",
    "     [5, 6, 7, 8],\n",
    "     [9, 10, 11, 12],\n",
    "     [13, 14, 15, 16]]\n",
    "B = [[16, 15, 14, 13],\n",
    "     [12, 11, 10, 9],\n",
    "     [8, 7, 6, 5],\n",
    "     [4, 3, 2, 1]]\n",
    "result_recursive = square_matrix_multiply_recursive(A, B)\n",
    "result_non_recursive = square_matrix_multiply(A, B)\n",
    "\n",
    "print(\"Result of Recursive A * B:\")\n",
    "for row in result_recursive:\n",
    "    print(row)\n",
    "\n",
    "print(\"\\nResult of Non-Recursive A * B:\")\n",
    "for row in result_non_recursive:\n",
    "    print(row)"
   ]
  },
  {
   "cell_type": "markdown",
   "id": "896ae524-d2f8-4584-bd90-4743be871b28",
   "metadata": {},
   "source": [
    "# Exercise Three\n",
    "1. Reflect on the difference between (complexity of) addition/subtraction and multiplication on matrices.\n",
    "2. Do a complexity analysis of the Strassen algorithm.\n",
    "   - Instead of starting from scratch, you can also take your result from Exercise 2 and adapt to the optimisation; explain what changes in the complexity formula with these optimisations."
   ]
  },
  {
   "cell_type": "code",
   "execution_count": 14,
   "id": "98a882e1",
   "metadata": {},
   "outputs": [
    {
     "name": "stdout",
     "output_type": "stream",
     "text": [
      "Result of Strassen's Matrix Multiplication:\n",
      "[19, 22]\n",
      "[43, 6]\n"
     ]
    }
   ],
   "source": [
    "def matrix_sub(A, B):\n",
    "    n = len(A)\n",
    "    return [[A[i][j] - B[i][j] for j in range(n)] for i in range(n)]\n",
    "\n",
    "# Define the Strassen algorithm matrix multiplication function\n",
    "def strassen_matrix_multiply(A, B):\n",
    "    n = len(A)\n",
    "    if n == 1:\n",
    "        return [[A[0][0] * B[0][0]]]\n",
    "    else:\n",
    "        # Splitting and recombining matrices like in Exercise 2\n",
    "        mid = n // 2\n",
    "        A11, A12, A21, A22 = split_matrix(A, mid)\n",
    "        B11, B12, B21, B22 = split_matrix(B, mid)\n",
    "        \n",
    "        # Strassen's multiplication operations\n",
    "        M1 = strassen_matrix_multiply(matrix_add(A11, A22), matrix_add(B11, B22))\n",
    "        M2 = strassen_matrix_multiply(matrix_add(A21, A22), B11)\n",
    "        M3 = strassen_matrix_multiply(A11, matrix_sub(B12, B22))\n",
    "        M4 = strassen_matrix_multiply(A22, matrix_sub(B21, B11))\n",
    "        M5 = strassen_matrix_multiply(matrix_add(A11, A12), B22)\n",
    "        M6 = strassen_matrix_multiply(matrix_sub(A21, A11), matrix_add(B11, B12))\n",
    "        M7 = strassen_matrix_multiply(matrix_sub(A12, A22), matrix_add(B21, B22))\n",
    "\n",
    "        # Combining results\n",
    "        C11 = matrix_add(M1, M4)\n",
    "        C11 = matrix_sub(C11, M5)\n",
    "        C11 = matrix_add(C11, M7)\n",
    "        C12 = matrix_add(M3, M5)\n",
    "        C21 = matrix_add(M2, M4)\n",
    "        C22 = matrix_add(M1, M3)\n",
    "        C22 = matrix_sub(C22, M2)\n",
    "        C22 = matrix_sub(C22, M6)\n",
    "\n",
    "        C = combine_matrix(C11, C12, C21, C22, mid)\n",
    "        return C\n",
    "    \n",
    "# Test case for the Strassen algorithm\n",
    "A = [[1, 2], [3, 4]]\n",
    "B = [[5, 6], [7, 8]]\n",
    "result = strassen_matrix_multiply(A, B)\n",
    "print(\"Result of Strassen's Matrix Multiplication:\")\n",
    "for row in result:\n",
    "    print(row)"
   ]
  },
  {
   "cell_type": "code",
   "execution_count": null,
   "id": "0e1118d5",
   "metadata": {},
   "outputs": [],
   "source": []
  }
 ],
 "metadata": {
  "kernelspec": {
   "display_name": "Python 3 (ipykernel)",
   "language": "python",
   "name": "python3"
  },
  "language_info": {
   "codemirror_mode": {
    "name": "ipython",
    "version": 3
   },
   "file_extension": ".py",
   "mimetype": "text/x-python",
   "name": "python",
   "nbconvert_exporter": "python",
   "pygments_lexer": "ipython3",
   "version": "3.8.18"
  }
 },
 "nbformat": 4,
 "nbformat_minor": 5
}
